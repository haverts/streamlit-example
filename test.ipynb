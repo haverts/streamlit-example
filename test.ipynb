{
  "cells": [
    {
      "cell_type": "code",
      "execution_count": 24,
      "metadata": {
        "id": "_Z2MJzFhMQwD"
      },
      "outputs": [],
      "source": [
        "import numpy as np\n",
        "import pandas as pd\n",
        "import streamlit as st\n",
        "from statsmodels.tsa.statespace.sarimax import SARIMAX\n",
        "from sklearn.preprocessing import MinMaxScaler\n",
        "from tensorflow.keras.models import Sequential\n",
        "from tensorflow.keras.layers import LSTM, Dense"
      ]
    },
    {
      "cell_type": "code",
      "execution_count": 25,
      "metadata": {
        "id": "66oQPPp_Paj-"
      },
      "outputs": [],
      "source": [
        "# Perform necessary data preprocessing\n",
        "def preprocess_data(data):\n",
        "    scaler = MinMaxScaler()\n",
        "    data['ScaledValue'] = scaler.fit_transform(data['avg_lmp'].values.reshape(-1, 1))\n",
        "    return data, scaler\n",
        "\n",
        "def create_lstm_model():\n",
        "    model = Sequential()\n",
        "    model.add(LSTM(100, activation='relu', input_shape=(None, 1)))\n",
        "    model.add(Dense(1))\n",
        "    model.compile(optimizer='adam', loss='mse')\n",
        "    return model\n",
        "\n",
        "def create_sarima_model():\n",
        "    model = SARIMAX(data['avg_lmp'], order=(1, 0, 0), seasonal_order=(1, 1, 0, 8784))\n",
        "    return model\n",
        "\n",
        "# Define the forecasting function for LSTM\n",
        "def lstm_forecast(data, scaler):\n",
        "    lstm_model = create_lstm_model()\n",
        "    X = np.array(data['ScaledValue']).reshape(-1, 1)\n",
        "    lstm_model.fit(X[:-4392], data['ScaledValue'].values[4392:], epochs=10, batch_size=32, verbose=0)\n",
        "    forecast = lstm_model.predict(X[-4392:])\n",
        "    forecast = scaler.inverse_transform(forecast)\n",
        "    return forecast.flatten()\n",
        "\n",
        "# Define the forecasting function for SARIMA\n",
        "def sarima_forecast(data):\n",
        "    sarima_model = create_sarima_model()\n",
        "    sarima_model_fit = sarima_model.fit()\n",
        "    forecast = sarima_model_fit.forecast(steps=12)\n",
        "    return forecast"
      ]
    },
    {
      "cell_type": "code",
      "execution_count": 26,
      "metadata": {
        "id": "60TjiGJOPpK8"
      },
      "outputs": [],
      "source": [
        "# Streamlit app\n",
        "def main():\n",
        "    df = pd.read_csv(r'/content/sample_data/dipcef.csv', index_col='time_interval', parse_dates=True)\n",
        "    #path = r'/content/sample_data'\n",
        "    #all_files = glob.glob(os.path.join(path, \"dipcef_*.csv\"))\n",
        "\n",
        "    #df = pd.concat((pd.read_csv(f, parse_dates=True) for f in all_files))\n",
        "\n",
        "    df = df.loc[:, ~df.columns.str.contains('^Unnamed')]\n",
        "    #df['time_interval'] = pd.to_datetime(df['time_interval'])\n",
        "    #df = df.drop(columns=['MKT_TYPE', 'COMMODITY_TYPE','RESOURCE_NAME', 'RESOURCE_TYPE' , 'REGION_NAME' ,'RUN_TIME'])\n",
        "    print('Shape of Data' , df.shape)\n",
        "    df = df.dropna()\n",
        "    df.info()\n",
        "\n",
        "    import datetime\n",
        "    #df.index = df.index.date\n",
        "    #df = df.groupby(df.index)['avg_lmp'].agg(avg_lmp=('mean'))\n",
        "    # Resample the data to hourly intervals\n",
        "    data = df.resample('1H').mean()\n",
        "    data, scaler = preprocess_data(data)\n",
        "    \n",
        "    # Set up the sidebar with model selection\n",
        "    models = ['LSTM', 'SARIMA']\n",
        "    model_selection = st.sidebar.selectbox('Select Model', models)\n",
        "    \n",
        "    # Generate the forecast based on the selected model\n",
        "    if model_selection == 'LSTM':\n",
        "        forecast = lstm_forecast(data, scaler)\n",
        "    elif model_selection == 'SARIMA':\n",
        "        forecast = sarima_forecast(data)\n",
        "    \n",
        "    # Display the hourly forecast\n",
        "    st.write('Hourly Forecast:')\n",
        "    st.write(pd.DataFrame({'Forecast': forecast}, index=data.tail(4392).index))"
      ]
    },
    {
      "cell_type": "code",
      "execution_count": 27,
      "metadata": {
        "colab": {
          "base_uri": "https://localhost:8080/"
        },
        "id": "xD0pdK0RQD1p",
        "outputId": "621665c9-ef3a-40e8-ff34-c0bbf2bba044"
      },
      "outputs": [
        {
          "name": "stdout",
          "output_type": "stream",
          "text": [
            "Shape of Data (105120, 1)\n",
            "<class 'pandas.core.frame.DataFrame'>\n",
            "DatetimeIndex: 105120 entries, 2021-12-26 00:05:00 to 2022-12-26 00:00:00\n",
            "Data columns (total 1 columns):\n",
            " #   Column   Non-Null Count   Dtype  \n",
            "---  ------   --------------   -----  \n",
            " 0   avg_lmp  105120 non-null  float64\n",
            "dtypes: float64(1)\n",
            "memory usage: 1.6 MB\n",
            "138/138 [==============================] - 0s 2ms/step\n"
          ]
        }
      ],
      "source": [
        "if __name__ == '__main__':\n",
        "    main()"
      ]
    }
  ],
  "metadata": {
    "colab": {
      "provenance": []
    },
    "kernelspec": {
      "display_name": "Python 3",
      "name": "python3"
    },
    "language_info": {
      "name": "python"
    }
  },
  "nbformat": 4,
  "nbformat_minor": 0
}
